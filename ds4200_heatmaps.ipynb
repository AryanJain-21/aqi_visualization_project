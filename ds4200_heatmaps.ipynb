{
 "cells": [
  {
   "cell_type": "code",
   "execution_count": 1,
   "id": "eca87c51",
   "metadata": {
    "scrolled": true
   },
   "outputs": [],
   "source": [
    "# Importing all the necessary libaries that will be used through the project\n",
    "\n",
    "import pandas as pd\n",
    "import plotly_express as px\n",
    "import plotly.graph_objects as go\n",
    "import seaborn as sns\n"
   ]
  },
  {
   "cell_type": "code",
   "execution_count": 3,
   "id": "68327f56",
   "metadata": {},
   "outputs": [],
   "source": [
    "# Read in the 1980 and 2021 data to compare air quality in lockdown and before lockdown\n",
    "\n",
    "oldAir_df = pd.read_csv(\"daily_aqi_by_county_1980.csv\")\n",
    "newAir_df = pd.read_csv(\"daily_aqi_by_county_2021.csv\")"
   ]
  },
  {
   "cell_type": "code",
   "execution_count": 5,
   "id": "0777e7fb",
   "metadata": {},
   "outputs": [
    {
     "name": "stdout",
     "output_type": "stream",
     "text": [
      "54\n",
      "     State Name county Name        Date  AQI  Category\n",
      "2488    Alabama  Tuscaloosa  1980-05-20   40      Good\n",
      "2489    Alabama  Tuscaloosa  1980-05-21   74  Moderate\n",
      "2490    Alabama  Tuscaloosa  1980-05-22   42      Good\n",
      "2491    Alabama  Tuscaloosa  1980-05-23   67  Moderate\n",
      "2492    Alabama  Tuscaloosa  1980-05-24   77  Moderate\n",
      "...         ...         ...         ...  ...       ...\n",
      "2615    Alabama  Tuscaloosa  1980-12-27   28      Good\n",
      "2616    Alabama  Tuscaloosa  1980-12-28   32      Good\n",
      "2617    Alabama  Tuscaloosa  1980-12-29   28      Good\n",
      "2618    Alabama  Tuscaloosa  1980-12-30   14      Good\n",
      "2619    Alabama  Tuscaloosa  1980-12-31   31      Good\n",
      "\n",
      "[132 rows x 5 columns]\n"
     ]
    }
   ],
   "source": [
    "# Keeping only the necessary columns, as well as identifers (Date)\n",
    "\n",
    "oldAir_df = oldAir_df[[\"State Name\", \"county Name\", \"Date\", \"AQI\", \"Category\"]]\n",
    "newAir_df = newAir_df[[\"State Name\", \"county Name\", \"Date\", \"AQI\", \"Category\"]]\n",
    "\n",
    "# How many counties/states are in the data. To see what would be feasible to display\n",
    "\n",
    "new_states = newAir_df['State Name'].unique()\n",
    "print(len(new_states))\n",
    "\n",
    "# To see the data\n",
    "result_old = oldAir_df[(oldAir_df['State Name'] == \"Alabama\") & (oldAir_df['county Name'] == \"Tuscaloosa\")]\n",
    "result_new = newAir_df[(newAir_df['State Name'] == \"Alabama\") & (newAir_df['county Name'] == \"Tuscaloosa\")]\n",
    "print(result_old)\n",
    "#print(result_new)\n"
   ]
  },
  {
   "cell_type": "code",
   "execution_count": 6,
   "id": "182a0d3b",
   "metadata": {},
   "outputs": [
    {
     "name": "stdout",
     "output_type": "stream",
     "text": [
      "              State Name        AQI   Latitude   Longitude\n",
      "0                Alabama  65.240076  32.318231  -86.902298\n",
      "1                 Alaska  45.604414  63.588753 -154.493062\n",
      "2                Arizona  93.704272  34.048928 -111.093731\n",
      "3               Arkansas  41.818182   35.20105  -91.831833\n",
      "4             California  68.606929  36.778261 -119.417932\n",
      "5               Colorado  49.718805  39.550051 -105.782067\n",
      "6            Connecticut  89.888818  41.603221  -73.087749\n",
      "7               Delaware  53.458580  38.910832   -75.52767\n",
      "8   District Of Columbia  79.226776       None        None\n",
      "9                Florida  45.447225  27.664827  -81.515754\n",
      "10               Georgia  35.517600  32.157435  -82.907123\n",
      "11                Hawaii  16.803324  19.898682 -155.665857\n",
      "12                 Idaho  90.588599  44.068202 -114.742041\n",
      "13              Illinois  58.990562  40.633125  -89.398528\n",
      "14               Indiana  66.820131  40.551217  -85.602364\n",
      "15                  Iowa  42.738400  41.878003  -93.097702\n",
      "16                Kansas  49.538889  39.011902  -98.484246\n",
      "17              Kentucky  66.849469  37.839333  -84.270018\n",
      "18             Louisiana  39.367008  31.244823  -92.145024\n",
      "19                 Maine  65.496812  45.253783  -69.445469\n",
      "20              Maryland  64.122608  39.045755  -76.641271\n",
      "21         Massachusetts  62.852991  42.407211  -71.382437\n",
      "22              Michigan  46.613220  44.314844  -85.602364\n",
      "23             Minnesota  47.684480  46.729553    -94.6859\n",
      "24           Mississippi  35.997091  32.354668  -89.398528\n",
      "25              Missouri  72.186503  37.964253  -91.831833\n",
      "26               Montana  51.760739  46.879682 -110.362566\n",
      "27              Nebraska  49.221902  41.492537  -99.901813\n",
      "28                Nevada  77.564208   38.80261 -116.419389\n",
      "29         New Hampshire  71.348245  43.193852  -71.572395\n",
      "30            New Jersey  66.550860  40.058324  -74.405661\n",
      "31            New Mexico  52.075289   34.97273 -105.032363\n",
      "32              New York  68.447085  43.299428  -74.217933\n",
      "33        North Carolina  57.479548  35.759573    -79.0193\n",
      "34          North Dakota  24.546099  47.551493 -101.002012\n",
      "35                  Ohio  62.251517  40.417287  -82.907123\n",
      "36              Oklahoma  44.897792  35.007752  -97.092877\n",
      "37                Oregon  49.572902  43.804133 -120.554201\n",
      "38          Pennsylvania  74.989685  41.203322  -77.194525\n",
      "39           Puerto Rico  37.143731  18.220833  -66.590149\n",
      "40          Rhode Island  71.781609  41.580095  -71.477429\n",
      "41        South Carolina  52.853902  33.836081  -81.163725\n",
      "42             Tennessee  69.837529  35.517491  -86.580447\n",
      "43                 Texas  61.820925  31.968599  -99.901813\n",
      "44                  Utah  49.539300   39.32098 -111.093731\n",
      "45               Vermont  33.923077  44.558803  -72.577841\n",
      "46              Virginia  52.874573  37.431573  -78.656894\n",
      "47            Washington  58.436511  47.751074 -120.740139\n",
      "48         West Virginia  65.991453  38.597626  -80.454903\n",
      "49             Wisconsin  53.857372   43.78444  -88.787868\n",
      "              State Name        AQI   Latitude   Longitude\n",
      "0                Alabama  38.389463  32.318231  -86.902298\n",
      "1                 Alaska  30.194726  63.588753 -154.493062\n",
      "2                Arizona  52.074745  34.048928 -111.093731\n",
      "3               Arkansas  40.130307   35.20105  -91.831833\n",
      "4             California  52.290434  36.778261 -119.417932\n",
      "5               Colorado  49.650529  39.550051 -105.782067\n",
      "6            Connecticut  42.835029  41.603221  -73.087749\n",
      "7      Country Of Mexico  70.075658       None        None\n",
      "8               Delaware  42.160714  38.910832   -75.52767\n",
      "9   District Of Columbia  50.715328       None        None\n",
      "10               Florida  38.219287  27.664827  -81.515754\n",
      "11               Georgia  38.607977  32.157435  -82.907123\n",
      "12                Hawaii  23.651163  19.898682 -155.665857\n",
      "13                 Idaho  32.246433  44.068202 -114.742041\n",
      "14              Illinois  38.432028  40.633125  -89.398528\n",
      "15               Indiana  39.858358  40.551217  -85.602364\n",
      "16                  Iowa  41.632806  41.878003  -93.097702\n",
      "17                Kansas  37.241648  39.011902  -98.484246\n",
      "18              Kentucky  38.351770  37.839333  -84.270018\n",
      "19             Louisiana  35.152188  31.244823  -92.145024\n",
      "20                 Maine  35.355724  45.253783  -69.445469\n",
      "21              Maryland  41.658254  39.045755  -76.641271\n",
      "22         Massachusetts  40.632031  42.407211  -71.382437\n",
      "23              Michigan  40.967284  44.314844  -85.602364\n",
      "24             Minnesota  36.725690  46.729553    -94.6859\n",
      "25           Mississippi  38.357921  32.354668  -89.398528\n",
      "26              Missouri  40.741654  37.964253  -91.831833\n",
      "27               Montana  34.682944  46.879682 -110.362566\n",
      "28              Nebraska  34.210475  41.492537  -99.901813\n",
      "29                Nevada  42.637665   38.80261 -116.419389\n",
      "30         New Hampshire  38.190512  43.193852  -71.572395\n",
      "31            New Jersey  41.373978  40.058324  -74.405661\n",
      "32            New Mexico  47.927069   34.97273 -105.032363\n",
      "33              New York  38.174131  43.299428  -74.217933\n",
      "34        North Carolina  36.115657  35.759573    -79.0193\n",
      "35          North Dakota  42.697290  47.551493 -101.002012\n",
      "36                  Ohio  37.573306  40.417287  -82.907123\n",
      "37              Oklahoma  42.441679  35.007752  -97.092877\n",
      "38                Oregon  29.683023  43.804133 -120.554201\n",
      "39          Pennsylvania  42.188483  41.203322  -77.194525\n",
      "40           Puerto Rico  26.629377  18.220833  -66.590149\n",
      "41          Rhode Island  40.656121  41.580095  -71.477429\n",
      "42        South Carolina  38.870249  33.836081  -81.163725\n",
      "43          South Dakota  35.294052  43.969515  -99.901813\n",
      "44             Tennessee  38.171474  35.517491  -86.580447\n",
      "45                 Texas  36.853659  31.968599  -99.901813\n",
      "46                  Utah  52.640105   39.32098 -111.093731\n",
      "47               Vermont  40.739450  44.558803  -72.577841\n",
      "48        Virgin Islands  27.448276       None        None\n",
      "49              Virginia  34.711193  37.431573  -78.656894\n",
      "50            Washington  26.637581  47.751074 -120.740139\n",
      "51         West Virginia  35.088674  38.597626  -80.454903\n",
      "52             Wisconsin  40.968757   43.78444  -88.787868\n",
      "53               Wyoming  38.862921  43.075968 -107.290284\n"
     ]
    }
   ],
   "source": [
    "# To display the average AQI per state in old and new data\n",
    "\n",
    "old_average = oldAir_df.groupby('State Name')['AQI'].mean().reset_index()\n",
    "new_average = newAir_df.groupby('State Name')['AQI'].mean().reset_index()\n",
    "\n",
    "# Match with every state to map to a heatmap, link for Kaggle data set in the report\n",
    "state_info = pd.read_csv(\"US_GeoCode.csv\")\n",
    "#print(state_info)\n",
    "\n",
    "\n",
    "# Adding Latitudes and Longitudes to all the dataframes\n",
    "old_average['Latitude'] = None\n",
    "old_average['Longitude'] = None\n",
    "\n",
    "new_average['Latitude'] = None\n",
    "new_average['Longitude'] = None\n",
    "\n",
    "\n",
    "# Loop through the dataframes and assign values to latitude and longitude\n",
    "for index, data in old_average.iterrows():\n",
    "    name = data['State Name']\n",
    "    state_loc = state_info.loc[state_info['Name'] == name]\n",
    "    \n",
    "    if len(state_loc['latitude'].values) != 0:\n",
    "            old_average.at[index, 'Latitude'] = state_loc['latitude'].values[0]\n",
    "            old_average.at[index, 'Longitude'] = state_loc['longitude'].values[0]\n",
    "\n",
    "for index, data in new_average.iterrows():\n",
    "    name = data['State Name']\n",
    "    state_loc = state_info.loc[state_info['Name'] == name]\n",
    "    \n",
    "    if len(state_loc['latitude'].values) != 0:\n",
    "            new_average.at[index, 'Latitude'] = state_loc['latitude'].values[0]\n",
    "            new_average.at[index, 'Longitude'] = state_loc['longitude'].values[0]\n",
    "        \n",
    "# Check the dataframes\n",
    "print(old_average)\n",
    "print(new_average)"
   ]
  },
  {
   "cell_type": "code",
   "execution_count": 7,
   "id": "1f99e9a0",
   "metadata": {
    "scrolled": false
   },
   "outputs": [
    {
     "data": {
      "application/vnd.plotly.v1+json": {
       "config": {
        "plotlyServerURL": "https://plot.ly"
       },
       "data": [
        {
         "coloraxis": "coloraxis",
         "hovertemplate": "AQI=%{z}<br>Latitude=%{lat}<br>Longitude=%{lon}<extra></extra>",
         "lat": [
          32.318231,
          63.588753,
          34.048928,
          35.20105,
          36.778261,
          39.550051,
          41.603221,
          38.910832,
          null,
          27.664827,
          32.157435,
          19.898682,
          44.068202,
          40.633125,
          40.551217,
          41.878003,
          39.011902,
          37.839333,
          31.244823,
          45.253783,
          39.045755,
          42.407211,
          44.314844,
          46.729553,
          32.354668,
          37.964253,
          46.879682,
          41.492537,
          38.80261,
          43.193852,
          40.058324,
          34.97273,
          43.299428,
          35.759573,
          47.551493,
          40.417287,
          35.007752,
          43.804133,
          41.203322,
          18.220833,
          41.580095,
          33.836081,
          35.517491,
          31.968599,
          39.32098,
          44.558803,
          37.431573,
          47.751074,
          38.597626,
          43.78444
         ],
         "lon": [
          -86.902298,
          -154.493062,
          -111.093731,
          -91.831833,
          -119.417932,
          -105.782067,
          -73.087749,
          -75.52767,
          null,
          -81.515754,
          -82.907123,
          -155.665857,
          -114.742041,
          -89.398528,
          -85.602364,
          -93.097702,
          -98.484246,
          -84.270018,
          -92.145024,
          -69.445469,
          -76.641271,
          -71.382437,
          -85.602364,
          -94.6859,
          -89.398528,
          -91.831833,
          -110.362566,
          -99.901813,
          -116.419389,
          -71.572395,
          -74.405661,
          -105.032363,
          -74.217933,
          -79.0193,
          -101.002012,
          -82.907123,
          -97.092877,
          -120.554201,
          -77.194525,
          -66.590149,
          -71.477429,
          -81.163725,
          -86.580447,
          -99.901813,
          -111.093731,
          -72.577841,
          -78.656894,
          -120.740139,
          -80.454903,
          -88.787868
         ],
         "name": "",
         "opacity": 0,
         "radius": 40,
         "subplot": "mapbox",
         "type": "densitymapbox",
         "z": [
          65.24007633587786,
          45.6044142614601,
          93.70427163198248,
          41.81818181818182,
          68.60692924872356,
          49.718805440567714,
          89.88881829733164,
          53.4585798816568,
          79.22677595628416,
          45.44722466960352,
          35.5176,
          16.803324099722992,
          90.5885989010989,
          58.990562166598274,
          66.82013134968503,
          42.73839970770917,
          49.53888888888889,
          66.84946918079544,
          39.36700829673011,
          65.49681238615665,
          64.12260835611089,
          62.85299145299145,
          46.61321997365585,
          47.68448023426061,
          35.997091332169866,
          72.18650265957447,
          51.76073883161512,
          49.221902017291065,
          77.56420765027322,
          71.34824501032347,
          66.55086045322884,
          52.07528868360277,
          68.44708503527664,
          57.479547721982044,
          24.54609929078014,
          62.2515165655623,
          44.89779179810726,
          49.57290201593999,
          74.98968497351547,
          37.14373088685015,
          71.7816091954023,
          52.85390199637023,
          69.83752916615498,
          61.82092467983503,
          49.5393004889056,
          33.92307692307692,
          52.87457337883959,
          58.43651085756349,
          65.99145299145299,
          53.85737199259716
         ]
        },
        {
         "hoverinfo": "skip",
         "lat": [
          32.318231,
          63.588753,
          34.048928,
          35.20105,
          36.778261,
          39.550051,
          41.603221,
          38.910832,
          null,
          27.664827,
          32.157435,
          19.898682,
          44.068202,
          40.633125,
          40.551217,
          41.878003,
          39.011902,
          37.839333,
          31.244823,
          45.253783,
          39.045755,
          42.407211,
          44.314844,
          46.729553,
          32.354668,
          37.964253,
          46.879682,
          41.492537,
          38.80261,
          43.193852,
          40.058324,
          34.97273,
          43.299428,
          35.759573,
          47.551493,
          40.417287,
          35.007752,
          43.804133,
          41.203322,
          18.220833,
          41.580095,
          33.836081,
          35.517491,
          31.968599,
          39.32098,
          44.558803,
          37.431573,
          47.751074,
          38.597626,
          43.78444
         ],
         "lon": [
          -86.902298,
          -154.493062,
          -111.093731,
          -91.831833,
          -119.417932,
          -105.782067,
          -73.087749,
          -75.52767,
          null,
          -81.515754,
          -82.907123,
          -155.665857,
          -114.742041,
          -89.398528,
          -85.602364,
          -93.097702,
          -98.484246,
          -84.270018,
          -92.145024,
          -69.445469,
          -76.641271,
          -71.382437,
          -85.602364,
          -94.6859,
          -89.398528,
          -91.831833,
          -110.362566,
          -99.901813,
          -116.419389,
          -71.572395,
          -74.405661,
          -105.032363,
          -74.217933,
          -79.0193,
          -101.002012,
          -82.907123,
          -97.092877,
          -120.554201,
          -77.194525,
          -66.590149,
          -71.477429,
          -81.163725,
          -86.580447,
          -99.901813,
          -111.093731,
          -72.577841,
          -78.656894,
          -120.740139,
          -80.454903,
          -88.787868
         ],
         "marker": {
          "color": [
           65.24007633587786,
           45.6044142614601,
           93.70427163198248,
           41.81818181818182,
           68.60692924872356,
           49.718805440567714,
           89.88881829733164,
           53.4585798816568,
           79.22677595628416,
           45.44722466960352,
           35.5176,
           16.803324099722992,
           90.5885989010989,
           58.990562166598274,
           66.82013134968503,
           42.73839970770917,
           49.53888888888889,
           66.84946918079544,
           39.36700829673011,
           65.49681238615665,
           64.12260835611089,
           62.85299145299145,
           46.61321997365585,
           47.68448023426061,
           35.997091332169866,
           72.18650265957447,
           51.76073883161512,
           49.221902017291065,
           77.56420765027322,
           71.34824501032347,
           66.55086045322884,
           52.07528868360277,
           68.44708503527664,
           57.479547721982044,
           24.54609929078014,
           62.2515165655623,
           44.89779179810726,
           49.57290201593999,
           74.98968497351547,
           37.14373088685015,
           71.7816091954023,
           52.85390199637023,
           69.83752916615498,
           61.82092467983503,
           49.5393004889056,
           33.92307692307692,
           52.87457337883959,
           58.43651085756349,
           65.99145299145299,
           53.85737199259716
          ],
          "coloraxis": "coloraxis",
          "size": [
           65.24007633587786,
           45.6044142614601,
           93.70427163198248,
           41.81818181818182,
           68.60692924872356,
           49.718805440567714,
           89.88881829733164,
           53.4585798816568,
           79.22677595628416,
           45.44722466960352,
           35.5176,
           16.803324099722992,
           90.5885989010989,
           58.990562166598274,
           66.82013134968503,
           42.73839970770917,
           49.53888888888889,
           66.84946918079544,
           39.36700829673011,
           65.49681238615665,
           64.12260835611089,
           62.85299145299145,
           46.61321997365585,
           47.68448023426061,
           35.997091332169866,
           72.18650265957447,
           51.76073883161512,
           49.221902017291065,
           77.56420765027322,
           71.34824501032347,
           66.55086045322884,
           52.07528868360277,
           68.44708503527664,
           57.479547721982044,
           24.54609929078014,
           62.2515165655623,
           44.89779179810726,
           49.57290201593999,
           74.98968497351547,
           37.14373088685015,
           71.7816091954023,
           52.85390199637023,
           69.83752916615498,
           61.82092467983503,
           49.5393004889056,
           33.92307692307692,
           52.87457337883959,
           58.43651085756349,
           65.99145299145299,
           53.85737199259716
          ],
          "sizemode": "area"
         },
         "mode": "markers",
         "showlegend": false,
         "type": "scattermapbox"
        }
       ],
       "layout": {
        "coloraxis": {
         "colorbar": {
          "title": {
           "text": "AQI"
          }
         },
         "colorscale": [
          [
           0,
           "#000000"
          ],
          [
           0.0625,
           "#001f4d"
          ],
          [
           0.125,
           "#003786"
          ],
          [
           0.1875,
           "#0e58a8"
          ],
          [
           0.25,
           "#217eb8"
          ],
          [
           0.3125,
           "#30a4ca"
          ],
          [
           0.375,
           "#54c8df"
          ],
          [
           0.4375,
           "#9be4ef"
          ],
          [
           0.5,
           "#e1e9d1"
          ],
          [
           0.5625,
           "#f3d573"
          ],
          [
           0.625,
           "#e7b000"
          ],
          [
           0.6875,
           "#da8200"
          ],
          [
           0.75,
           "#c65400"
          ],
          [
           0.8125,
           "#ac2301"
          ],
          [
           0.875,
           "#820000"
          ],
          [
           0.9375,
           "#4c0000"
          ],
          [
           1,
           "#000000"
          ]
         ]
        },
        "height": 600,
        "legend": {
         "tracegroupgap": 0
        },
        "mapbox": {
         "center": {
          "lat": 38.98014818367347,
          "lon": -92.70734485714284
         },
         "domain": {
          "x": [
           0,
           1
          ],
          "y": [
           0,
           1
          ]
         },
         "style": "open-street-map",
         "zoom": 2
        },
        "margin": {
         "t": 60
        },
        "template": {
         "data": {
          "bar": [
           {
            "error_x": {
             "color": "#2a3f5f"
            },
            "error_y": {
             "color": "#2a3f5f"
            },
            "marker": {
             "line": {
              "color": "#E5ECF6",
              "width": 0.5
             },
             "pattern": {
              "fillmode": "overlay",
              "size": 10,
              "solidity": 0.2
             }
            },
            "type": "bar"
           }
          ],
          "barpolar": [
           {
            "marker": {
             "line": {
              "color": "#E5ECF6",
              "width": 0.5
             },
             "pattern": {
              "fillmode": "overlay",
              "size": 10,
              "solidity": 0.2
             }
            },
            "type": "barpolar"
           }
          ],
          "carpet": [
           {
            "aaxis": {
             "endlinecolor": "#2a3f5f",
             "gridcolor": "white",
             "linecolor": "white",
             "minorgridcolor": "white",
             "startlinecolor": "#2a3f5f"
            },
            "baxis": {
             "endlinecolor": "#2a3f5f",
             "gridcolor": "white",
             "linecolor": "white",
             "minorgridcolor": "white",
             "startlinecolor": "#2a3f5f"
            },
            "type": "carpet"
           }
          ],
          "choropleth": [
           {
            "colorbar": {
             "outlinewidth": 0,
             "ticks": ""
            },
            "type": "choropleth"
           }
          ],
          "contour": [
           {
            "colorbar": {
             "outlinewidth": 0,
             "ticks": ""
            },
            "colorscale": [
             [
              0,
              "#0d0887"
             ],
             [
              0.1111111111111111,
              "#46039f"
             ],
             [
              0.2222222222222222,
              "#7201a8"
             ],
             [
              0.3333333333333333,
              "#9c179e"
             ],
             [
              0.4444444444444444,
              "#bd3786"
             ],
             [
              0.5555555555555556,
              "#d8576b"
             ],
             [
              0.6666666666666666,
              "#ed7953"
             ],
             [
              0.7777777777777778,
              "#fb9f3a"
             ],
             [
              0.8888888888888888,
              "#fdca26"
             ],
             [
              1,
              "#f0f921"
             ]
            ],
            "type": "contour"
           }
          ],
          "contourcarpet": [
           {
            "colorbar": {
             "outlinewidth": 0,
             "ticks": ""
            },
            "type": "contourcarpet"
           }
          ],
          "heatmap": [
           {
            "colorbar": {
             "outlinewidth": 0,
             "ticks": ""
            },
            "colorscale": [
             [
              0,
              "#0d0887"
             ],
             [
              0.1111111111111111,
              "#46039f"
             ],
             [
              0.2222222222222222,
              "#7201a8"
             ],
             [
              0.3333333333333333,
              "#9c179e"
             ],
             [
              0.4444444444444444,
              "#bd3786"
             ],
             [
              0.5555555555555556,
              "#d8576b"
             ],
             [
              0.6666666666666666,
              "#ed7953"
             ],
             [
              0.7777777777777778,
              "#fb9f3a"
             ],
             [
              0.8888888888888888,
              "#fdca26"
             ],
             [
              1,
              "#f0f921"
             ]
            ],
            "type": "heatmap"
           }
          ],
          "heatmapgl": [
           {
            "colorbar": {
             "outlinewidth": 0,
             "ticks": ""
            },
            "colorscale": [
             [
              0,
              "#0d0887"
             ],
             [
              0.1111111111111111,
              "#46039f"
             ],
             [
              0.2222222222222222,
              "#7201a8"
             ],
             [
              0.3333333333333333,
              "#9c179e"
             ],
             [
              0.4444444444444444,
              "#bd3786"
             ],
             [
              0.5555555555555556,
              "#d8576b"
             ],
             [
              0.6666666666666666,
              "#ed7953"
             ],
             [
              0.7777777777777778,
              "#fb9f3a"
             ],
             [
              0.8888888888888888,
              "#fdca26"
             ],
             [
              1,
              "#f0f921"
             ]
            ],
            "type": "heatmapgl"
           }
          ],
          "histogram": [
           {
            "marker": {
             "pattern": {
              "fillmode": "overlay",
              "size": 10,
              "solidity": 0.2
             }
            },
            "type": "histogram"
           }
          ],
          "histogram2d": [
           {
            "colorbar": {
             "outlinewidth": 0,
             "ticks": ""
            },
            "colorscale": [
             [
              0,
              "#0d0887"
             ],
             [
              0.1111111111111111,
              "#46039f"
             ],
             [
              0.2222222222222222,
              "#7201a8"
             ],
             [
              0.3333333333333333,
              "#9c179e"
             ],
             [
              0.4444444444444444,
              "#bd3786"
             ],
             [
              0.5555555555555556,
              "#d8576b"
             ],
             [
              0.6666666666666666,
              "#ed7953"
             ],
             [
              0.7777777777777778,
              "#fb9f3a"
             ],
             [
              0.8888888888888888,
              "#fdca26"
             ],
             [
              1,
              "#f0f921"
             ]
            ],
            "type": "histogram2d"
           }
          ],
          "histogram2dcontour": [
           {
            "colorbar": {
             "outlinewidth": 0,
             "ticks": ""
            },
            "colorscale": [
             [
              0,
              "#0d0887"
             ],
             [
              0.1111111111111111,
              "#46039f"
             ],
             [
              0.2222222222222222,
              "#7201a8"
             ],
             [
              0.3333333333333333,
              "#9c179e"
             ],
             [
              0.4444444444444444,
              "#bd3786"
             ],
             [
              0.5555555555555556,
              "#d8576b"
             ],
             [
              0.6666666666666666,
              "#ed7953"
             ],
             [
              0.7777777777777778,
              "#fb9f3a"
             ],
             [
              0.8888888888888888,
              "#fdca26"
             ],
             [
              1,
              "#f0f921"
             ]
            ],
            "type": "histogram2dcontour"
           }
          ],
          "mesh3d": [
           {
            "colorbar": {
             "outlinewidth": 0,
             "ticks": ""
            },
            "type": "mesh3d"
           }
          ],
          "parcoords": [
           {
            "line": {
             "colorbar": {
              "outlinewidth": 0,
              "ticks": ""
             }
            },
            "type": "parcoords"
           }
          ],
          "pie": [
           {
            "automargin": true,
            "type": "pie"
           }
          ],
          "scatter": [
           {
            "fillpattern": {
             "fillmode": "overlay",
             "size": 10,
             "solidity": 0.2
            },
            "type": "scatter"
           }
          ],
          "scatter3d": [
           {
            "line": {
             "colorbar": {
              "outlinewidth": 0,
              "ticks": ""
             }
            },
            "marker": {
             "colorbar": {
              "outlinewidth": 0,
              "ticks": ""
             }
            },
            "type": "scatter3d"
           }
          ],
          "scattercarpet": [
           {
            "marker": {
             "colorbar": {
              "outlinewidth": 0,
              "ticks": ""
             }
            },
            "type": "scattercarpet"
           }
          ],
          "scattergeo": [
           {
            "marker": {
             "colorbar": {
              "outlinewidth": 0,
              "ticks": ""
             }
            },
            "type": "scattergeo"
           }
          ],
          "scattergl": [
           {
            "marker": {
             "colorbar": {
              "outlinewidth": 0,
              "ticks": ""
             }
            },
            "type": "scattergl"
           }
          ],
          "scattermapbox": [
           {
            "marker": {
             "colorbar": {
              "outlinewidth": 0,
              "ticks": ""
             }
            },
            "type": "scattermapbox"
           }
          ],
          "scatterpolar": [
           {
            "marker": {
             "colorbar": {
              "outlinewidth": 0,
              "ticks": ""
             }
            },
            "type": "scatterpolar"
           }
          ],
          "scatterpolargl": [
           {
            "marker": {
             "colorbar": {
              "outlinewidth": 0,
              "ticks": ""
             }
            },
            "type": "scatterpolargl"
           }
          ],
          "scatterternary": [
           {
            "marker": {
             "colorbar": {
              "outlinewidth": 0,
              "ticks": ""
             }
            },
            "type": "scatterternary"
           }
          ],
          "surface": [
           {
            "colorbar": {
             "outlinewidth": 0,
             "ticks": ""
            },
            "colorscale": [
             [
              0,
              "#0d0887"
             ],
             [
              0.1111111111111111,
              "#46039f"
             ],
             [
              0.2222222222222222,
              "#7201a8"
             ],
             [
              0.3333333333333333,
              "#9c179e"
             ],
             [
              0.4444444444444444,
              "#bd3786"
             ],
             [
              0.5555555555555556,
              "#d8576b"
             ],
             [
              0.6666666666666666,
              "#ed7953"
             ],
             [
              0.7777777777777778,
              "#fb9f3a"
             ],
             [
              0.8888888888888888,
              "#fdca26"
             ],
             [
              1,
              "#f0f921"
             ]
            ],
            "type": "surface"
           }
          ],
          "table": [
           {
            "cells": {
             "fill": {
              "color": "#EBF0F8"
             },
             "line": {
              "color": "white"
             }
            },
            "header": {
             "fill": {
              "color": "#C8D4E3"
             },
             "line": {
              "color": "white"
             }
            },
            "type": "table"
           }
          ]
         },
         "layout": {
          "annotationdefaults": {
           "arrowcolor": "#2a3f5f",
           "arrowhead": 0,
           "arrowwidth": 1
          },
          "autotypenumbers": "strict",
          "coloraxis": {
           "colorbar": {
            "outlinewidth": 0,
            "ticks": ""
           }
          },
          "colorscale": {
           "diverging": [
            [
             0,
             "#8e0152"
            ],
            [
             0.1,
             "#c51b7d"
            ],
            [
             0.2,
             "#de77ae"
            ],
            [
             0.3,
             "#f1b6da"
            ],
            [
             0.4,
             "#fde0ef"
            ],
            [
             0.5,
             "#f7f7f7"
            ],
            [
             0.6,
             "#e6f5d0"
            ],
            [
             0.7,
             "#b8e186"
            ],
            [
             0.8,
             "#7fbc41"
            ],
            [
             0.9,
             "#4d9221"
            ],
            [
             1,
             "#276419"
            ]
           ],
           "sequential": [
            [
             0,
             "#0d0887"
            ],
            [
             0.1111111111111111,
             "#46039f"
            ],
            [
             0.2222222222222222,
             "#7201a8"
            ],
            [
             0.3333333333333333,
             "#9c179e"
            ],
            [
             0.4444444444444444,
             "#bd3786"
            ],
            [
             0.5555555555555556,
             "#d8576b"
            ],
            [
             0.6666666666666666,
             "#ed7953"
            ],
            [
             0.7777777777777778,
             "#fb9f3a"
            ],
            [
             0.8888888888888888,
             "#fdca26"
            ],
            [
             1,
             "#f0f921"
            ]
           ],
           "sequentialminus": [
            [
             0,
             "#0d0887"
            ],
            [
             0.1111111111111111,
             "#46039f"
            ],
            [
             0.2222222222222222,
             "#7201a8"
            ],
            [
             0.3333333333333333,
             "#9c179e"
            ],
            [
             0.4444444444444444,
             "#bd3786"
            ],
            [
             0.5555555555555556,
             "#d8576b"
            ],
            [
             0.6666666666666666,
             "#ed7953"
            ],
            [
             0.7777777777777778,
             "#fb9f3a"
            ],
            [
             0.8888888888888888,
             "#fdca26"
            ],
            [
             1,
             "#f0f921"
            ]
           ]
          },
          "colorway": [
           "#636efa",
           "#EF553B",
           "#00cc96",
           "#ab63fa",
           "#FFA15A",
           "#19d3f3",
           "#FF6692",
           "#B6E880",
           "#FF97FF",
           "#FECB52"
          ],
          "font": {
           "color": "#2a3f5f"
          },
          "geo": {
           "bgcolor": "white",
           "lakecolor": "white",
           "landcolor": "#E5ECF6",
           "showlakes": true,
           "showland": true,
           "subunitcolor": "white"
          },
          "hoverlabel": {
           "align": "left"
          },
          "hovermode": "closest",
          "mapbox": {
           "style": "light"
          },
          "paper_bgcolor": "white",
          "plot_bgcolor": "#E5ECF6",
          "polar": {
           "angularaxis": {
            "gridcolor": "white",
            "linecolor": "white",
            "ticks": ""
           },
           "bgcolor": "#E5ECF6",
           "radialaxis": {
            "gridcolor": "white",
            "linecolor": "white",
            "ticks": ""
           }
          },
          "scene": {
           "xaxis": {
            "backgroundcolor": "#E5ECF6",
            "gridcolor": "white",
            "gridwidth": 2,
            "linecolor": "white",
            "showbackground": true,
            "ticks": "",
            "zerolinecolor": "white"
           },
           "yaxis": {
            "backgroundcolor": "#E5ECF6",
            "gridcolor": "white",
            "gridwidth": 2,
            "linecolor": "white",
            "showbackground": true,
            "ticks": "",
            "zerolinecolor": "white"
           },
           "zaxis": {
            "backgroundcolor": "#E5ECF6",
            "gridcolor": "white",
            "gridwidth": 2,
            "linecolor": "white",
            "showbackground": true,
            "ticks": "",
            "zerolinecolor": "white"
           }
          },
          "shapedefaults": {
           "line": {
            "color": "#2a3f5f"
           }
          },
          "ternary": {
           "aaxis": {
            "gridcolor": "white",
            "linecolor": "white",
            "ticks": ""
           },
           "baxis": {
            "gridcolor": "white",
            "linecolor": "white",
            "ticks": ""
           },
           "bgcolor": "#E5ECF6",
           "caxis": {
            "gridcolor": "white",
            "linecolor": "white",
            "ticks": ""
           }
          },
          "title": {
           "x": 0.05
          },
          "xaxis": {
           "automargin": true,
           "gridcolor": "white",
           "linecolor": "white",
           "ticks": "",
           "title": {
            "standoff": 15
           },
           "zerolinecolor": "white",
           "zerolinewidth": 2
          },
          "yaxis": {
           "automargin": true,
           "gridcolor": "white",
           "linecolor": "white",
           "ticks": "",
           "title": {
            "standoff": 15
           },
           "zerolinecolor": "white",
           "zerolinewidth": 2
          }
         }
        },
        "title": {
         "text": "1980 AQI Heatmap"
        }
       }
      }
     },
     "metadata": {},
     "output_type": "display_data"
    },
    {
     "data": {
      "application/vnd.plotly.v1+json": {
       "config": {
        "plotlyServerURL": "https://plot.ly"
       },
       "data": [
        {
         "coloraxis": "coloraxis",
         "hovertemplate": "AQI=%{z}<br>Latitude=%{lat}<br>Longitude=%{lon}<extra></extra>",
         "lat": [
          32.318231,
          63.588753,
          34.048928,
          35.20105,
          36.778261,
          39.550051,
          41.603221,
          null,
          38.910832,
          null,
          27.664827,
          32.157435,
          19.898682,
          44.068202,
          40.633125,
          40.551217,
          41.878003,
          39.011902,
          37.839333,
          31.244823,
          45.253783,
          39.045755,
          42.407211,
          44.314844,
          46.729553,
          32.354668,
          37.964253,
          46.879682,
          41.492537,
          38.80261,
          43.193852,
          40.058324,
          34.97273,
          43.299428,
          35.759573,
          47.551493,
          40.417287,
          35.007752,
          43.804133,
          41.203322,
          18.220833,
          41.580095,
          33.836081,
          43.969515,
          35.517491,
          31.968599,
          39.32098,
          44.558803,
          null,
          37.431573,
          47.751074,
          38.597626,
          43.78444,
          43.075968
         ],
         "lon": [
          -86.902298,
          -154.493062,
          -111.093731,
          -91.831833,
          -119.417932,
          -105.782067,
          -73.087749,
          null,
          -75.52767,
          null,
          -81.515754,
          -82.907123,
          -155.665857,
          -114.742041,
          -89.398528,
          -85.602364,
          -93.097702,
          -98.484246,
          -84.270018,
          -92.145024,
          -69.445469,
          -76.641271,
          -71.382437,
          -85.602364,
          -94.6859,
          -89.398528,
          -91.831833,
          -110.362566,
          -99.901813,
          -116.419389,
          -71.572395,
          -74.405661,
          -105.032363,
          -74.217933,
          -79.0193,
          -101.002012,
          -82.907123,
          -97.092877,
          -120.554201,
          -77.194525,
          -66.590149,
          -71.477429,
          -81.163725,
          -99.901813,
          -86.580447,
          -99.901813,
          -111.093731,
          -72.577841,
          null,
          -78.656894,
          -120.740139,
          -80.454903,
          -88.787868,
          -107.290284
         ],
         "name": "",
         "opacity": 0,
         "radius": 40,
         "subplot": "mapbox",
         "type": "densitymapbox",
         "z": [
          38.389462809917354,
          30.1947261663286,
          52.07474518686297,
          40.1303074670571,
          52.29043448096436,
          49.650528658875906,
          42.835029069767444,
          70.07565789473684,
          42.160714285714285,
          50.715328467153284,
          38.21928721174004,
          38.6079766536965,
          23.651162790697676,
          32.246433203631646,
          38.43202809938858,
          39.85835819246492,
          41.632806426535375,
          37.24164810690423,
          38.35177033492823,
          35.15218821980915,
          35.35572408811846,
          41.658254225515165,
          40.63203050524309,
          40.96728430804864,
          36.72569027611044,
          38.357920792079206,
          40.741654302670625,
          34.6829438437391,
          34.21047479197259,
          42.63766456783057,
          38.19051204819277,
          41.37397795947387,
          47.92706872370267,
          38.17413137893594,
          36.115657461363064,
          42.69729043183742,
          37.57330599310281,
          42.44167877906977,
          29.683022571148186,
          42.188482765802355,
          26.62937660119556,
          40.65612104539202,
          38.870249017038006,
          35.29405162738496,
          38.17147435897436,
          36.853658536585364,
          52.6401052883465,
          40.7394495412844,
          27.448275862068964,
          34.71119273149043,
          26.63758139534884,
          35.08867427568042,
          40.96875659700232,
          38.8629207383279
         ]
        },
        {
         "hoverinfo": "skip",
         "lat": [
          32.318231,
          63.588753,
          34.048928,
          35.20105,
          36.778261,
          39.550051,
          41.603221,
          null,
          38.910832,
          null,
          27.664827,
          32.157435,
          19.898682,
          44.068202,
          40.633125,
          40.551217,
          41.878003,
          39.011902,
          37.839333,
          31.244823,
          45.253783,
          39.045755,
          42.407211,
          44.314844,
          46.729553,
          32.354668,
          37.964253,
          46.879682,
          41.492537,
          38.80261,
          43.193852,
          40.058324,
          34.97273,
          43.299428,
          35.759573,
          47.551493,
          40.417287,
          35.007752,
          43.804133,
          41.203322,
          18.220833,
          41.580095,
          33.836081,
          43.969515,
          35.517491,
          31.968599,
          39.32098,
          44.558803,
          null,
          37.431573,
          47.751074,
          38.597626,
          43.78444,
          43.075968
         ],
         "lon": [
          -86.902298,
          -154.493062,
          -111.093731,
          -91.831833,
          -119.417932,
          -105.782067,
          -73.087749,
          null,
          -75.52767,
          null,
          -81.515754,
          -82.907123,
          -155.665857,
          -114.742041,
          -89.398528,
          -85.602364,
          -93.097702,
          -98.484246,
          -84.270018,
          -92.145024,
          -69.445469,
          -76.641271,
          -71.382437,
          -85.602364,
          -94.6859,
          -89.398528,
          -91.831833,
          -110.362566,
          -99.901813,
          -116.419389,
          -71.572395,
          -74.405661,
          -105.032363,
          -74.217933,
          -79.0193,
          -101.002012,
          -82.907123,
          -97.092877,
          -120.554201,
          -77.194525,
          -66.590149,
          -71.477429,
          -81.163725,
          -99.901813,
          -86.580447,
          -99.901813,
          -111.093731,
          -72.577841,
          null,
          -78.656894,
          -120.740139,
          -80.454903,
          -88.787868,
          -107.290284
         ],
         "marker": {
          "color": [
           38.389462809917354,
           30.1947261663286,
           52.07474518686297,
           40.1303074670571,
           52.29043448096436,
           49.650528658875906,
           42.835029069767444,
           70.07565789473684,
           42.160714285714285,
           50.715328467153284,
           38.21928721174004,
           38.6079766536965,
           23.651162790697676,
           32.246433203631646,
           38.43202809938858,
           39.85835819246492,
           41.632806426535375,
           37.24164810690423,
           38.35177033492823,
           35.15218821980915,
           35.35572408811846,
           41.658254225515165,
           40.63203050524309,
           40.96728430804864,
           36.72569027611044,
           38.357920792079206,
           40.741654302670625,
           34.6829438437391,
           34.21047479197259,
           42.63766456783057,
           38.19051204819277,
           41.37397795947387,
           47.92706872370267,
           38.17413137893594,
           36.115657461363064,
           42.69729043183742,
           37.57330599310281,
           42.44167877906977,
           29.683022571148186,
           42.188482765802355,
           26.62937660119556,
           40.65612104539202,
           38.870249017038006,
           35.29405162738496,
           38.17147435897436,
           36.853658536585364,
           52.6401052883465,
           40.7394495412844,
           27.448275862068964,
           34.71119273149043,
           26.63758139534884,
           35.08867427568042,
           40.96875659700232,
           38.8629207383279
          ],
          "coloraxis": "coloraxis",
          "size": [
           38.389462809917354,
           30.1947261663286,
           52.07474518686297,
           40.1303074670571,
           52.29043448096436,
           49.650528658875906,
           42.835029069767444,
           70.07565789473684,
           42.160714285714285,
           50.715328467153284,
           38.21928721174004,
           38.6079766536965,
           23.651162790697676,
           32.246433203631646,
           38.43202809938858,
           39.85835819246492,
           41.632806426535375,
           37.24164810690423,
           38.35177033492823,
           35.15218821980915,
           35.35572408811846,
           41.658254225515165,
           40.63203050524309,
           40.96728430804864,
           36.72569027611044,
           38.357920792079206,
           40.741654302670625,
           34.6829438437391,
           34.21047479197259,
           42.63766456783057,
           38.19051204819277,
           41.37397795947387,
           47.92706872370267,
           38.17413137893594,
           36.115657461363064,
           42.69729043183742,
           37.57330599310281,
           42.44167877906977,
           29.683022571148186,
           42.188482765802355,
           26.62937660119556,
           40.65612104539202,
           38.870249017038006,
           35.29405162738496,
           38.17147435897436,
           36.853658536585364,
           52.6401052883465,
           40.7394495412844,
           27.448275862068964,
           34.71119273149043,
           26.63758139534884,
           35.08867427568042,
           40.96875659700232,
           38.8629207383279
          ],
          "sizemode": "area"
         },
         "mode": "markers",
         "showlegend": false,
         "type": "scattermapbox"
        }
       ],
       "layout": {
        "coloraxis": {
         "colorbar": {
          "title": {
           "text": "AQI"
          }
         },
         "colorscale": [
          [
           0,
           "#000000"
          ],
          [
           0.0625,
           "#001f4d"
          ],
          [
           0.125,
           "#003786"
          ],
          [
           0.1875,
           "#0e58a8"
          ],
          [
           0.25,
           "#217eb8"
          ],
          [
           0.3125,
           "#30a4ca"
          ],
          [
           0.375,
           "#54c8df"
          ],
          [
           0.4375,
           "#9be4ef"
          ],
          [
           0.5,
           "#e1e9d1"
          ],
          [
           0.5625,
           "#f3d573"
          ],
          [
           0.625,
           "#e7b000"
          ],
          [
           0.6875,
           "#da8200"
          ],
          [
           0.75,
           "#c65400"
          ],
          [
           0.8125,
           "#ac2301"
          ],
          [
           0.875,
           "#820000"
          ],
          [
           0.9375,
           "#4c0000"
          ],
          [
           1,
           "#000000"
          ]
         ]
        },
        "height": 600,
        "legend": {
         "tracegroupgap": 0
        },
        "mapbox": {
         "center": {
          "lat": 39.15828909803922,
          "lon": -93.13435284313724
         },
         "domain": {
          "x": [
           0,
           1
          ],
          "y": [
           0,
           1
          ]
         },
         "style": "open-street-map",
         "zoom": 2
        },
        "margin": {
         "t": 60
        },
        "template": {
         "data": {
          "bar": [
           {
            "error_x": {
             "color": "#2a3f5f"
            },
            "error_y": {
             "color": "#2a3f5f"
            },
            "marker": {
             "line": {
              "color": "#E5ECF6",
              "width": 0.5
             },
             "pattern": {
              "fillmode": "overlay",
              "size": 10,
              "solidity": 0.2
             }
            },
            "type": "bar"
           }
          ],
          "barpolar": [
           {
            "marker": {
             "line": {
              "color": "#E5ECF6",
              "width": 0.5
             },
             "pattern": {
              "fillmode": "overlay",
              "size": 10,
              "solidity": 0.2
             }
            },
            "type": "barpolar"
           }
          ],
          "carpet": [
           {
            "aaxis": {
             "endlinecolor": "#2a3f5f",
             "gridcolor": "white",
             "linecolor": "white",
             "minorgridcolor": "white",
             "startlinecolor": "#2a3f5f"
            },
            "baxis": {
             "endlinecolor": "#2a3f5f",
             "gridcolor": "white",
             "linecolor": "white",
             "minorgridcolor": "white",
             "startlinecolor": "#2a3f5f"
            },
            "type": "carpet"
           }
          ],
          "choropleth": [
           {
            "colorbar": {
             "outlinewidth": 0,
             "ticks": ""
            },
            "type": "choropleth"
           }
          ],
          "contour": [
           {
            "colorbar": {
             "outlinewidth": 0,
             "ticks": ""
            },
            "colorscale": [
             [
              0,
              "#0d0887"
             ],
             [
              0.1111111111111111,
              "#46039f"
             ],
             [
              0.2222222222222222,
              "#7201a8"
             ],
             [
              0.3333333333333333,
              "#9c179e"
             ],
             [
              0.4444444444444444,
              "#bd3786"
             ],
             [
              0.5555555555555556,
              "#d8576b"
             ],
             [
              0.6666666666666666,
              "#ed7953"
             ],
             [
              0.7777777777777778,
              "#fb9f3a"
             ],
             [
              0.8888888888888888,
              "#fdca26"
             ],
             [
              1,
              "#f0f921"
             ]
            ],
            "type": "contour"
           }
          ],
          "contourcarpet": [
           {
            "colorbar": {
             "outlinewidth": 0,
             "ticks": ""
            },
            "type": "contourcarpet"
           }
          ],
          "heatmap": [
           {
            "colorbar": {
             "outlinewidth": 0,
             "ticks": ""
            },
            "colorscale": [
             [
              0,
              "#0d0887"
             ],
             [
              0.1111111111111111,
              "#46039f"
             ],
             [
              0.2222222222222222,
              "#7201a8"
             ],
             [
              0.3333333333333333,
              "#9c179e"
             ],
             [
              0.4444444444444444,
              "#bd3786"
             ],
             [
              0.5555555555555556,
              "#d8576b"
             ],
             [
              0.6666666666666666,
              "#ed7953"
             ],
             [
              0.7777777777777778,
              "#fb9f3a"
             ],
             [
              0.8888888888888888,
              "#fdca26"
             ],
             [
              1,
              "#f0f921"
             ]
            ],
            "type": "heatmap"
           }
          ],
          "heatmapgl": [
           {
            "colorbar": {
             "outlinewidth": 0,
             "ticks": ""
            },
            "colorscale": [
             [
              0,
              "#0d0887"
             ],
             [
              0.1111111111111111,
              "#46039f"
             ],
             [
              0.2222222222222222,
              "#7201a8"
             ],
             [
              0.3333333333333333,
              "#9c179e"
             ],
             [
              0.4444444444444444,
              "#bd3786"
             ],
             [
              0.5555555555555556,
              "#d8576b"
             ],
             [
              0.6666666666666666,
              "#ed7953"
             ],
             [
              0.7777777777777778,
              "#fb9f3a"
             ],
             [
              0.8888888888888888,
              "#fdca26"
             ],
             [
              1,
              "#f0f921"
             ]
            ],
            "type": "heatmapgl"
           }
          ],
          "histogram": [
           {
            "marker": {
             "pattern": {
              "fillmode": "overlay",
              "size": 10,
              "solidity": 0.2
             }
            },
            "type": "histogram"
           }
          ],
          "histogram2d": [
           {
            "colorbar": {
             "outlinewidth": 0,
             "ticks": ""
            },
            "colorscale": [
             [
              0,
              "#0d0887"
             ],
             [
              0.1111111111111111,
              "#46039f"
             ],
             [
              0.2222222222222222,
              "#7201a8"
             ],
             [
              0.3333333333333333,
              "#9c179e"
             ],
             [
              0.4444444444444444,
              "#bd3786"
             ],
             [
              0.5555555555555556,
              "#d8576b"
             ],
             [
              0.6666666666666666,
              "#ed7953"
             ],
             [
              0.7777777777777778,
              "#fb9f3a"
             ],
             [
              0.8888888888888888,
              "#fdca26"
             ],
             [
              1,
              "#f0f921"
             ]
            ],
            "type": "histogram2d"
           }
          ],
          "histogram2dcontour": [
           {
            "colorbar": {
             "outlinewidth": 0,
             "ticks": ""
            },
            "colorscale": [
             [
              0,
              "#0d0887"
             ],
             [
              0.1111111111111111,
              "#46039f"
             ],
             [
              0.2222222222222222,
              "#7201a8"
             ],
             [
              0.3333333333333333,
              "#9c179e"
             ],
             [
              0.4444444444444444,
              "#bd3786"
             ],
             [
              0.5555555555555556,
              "#d8576b"
             ],
             [
              0.6666666666666666,
              "#ed7953"
             ],
             [
              0.7777777777777778,
              "#fb9f3a"
             ],
             [
              0.8888888888888888,
              "#fdca26"
             ],
             [
              1,
              "#f0f921"
             ]
            ],
            "type": "histogram2dcontour"
           }
          ],
          "mesh3d": [
           {
            "colorbar": {
             "outlinewidth": 0,
             "ticks": ""
            },
            "type": "mesh3d"
           }
          ],
          "parcoords": [
           {
            "line": {
             "colorbar": {
              "outlinewidth": 0,
              "ticks": ""
             }
            },
            "type": "parcoords"
           }
          ],
          "pie": [
           {
            "automargin": true,
            "type": "pie"
           }
          ],
          "scatter": [
           {
            "fillpattern": {
             "fillmode": "overlay",
             "size": 10,
             "solidity": 0.2
            },
            "type": "scatter"
           }
          ],
          "scatter3d": [
           {
            "line": {
             "colorbar": {
              "outlinewidth": 0,
              "ticks": ""
             }
            },
            "marker": {
             "colorbar": {
              "outlinewidth": 0,
              "ticks": ""
             }
            },
            "type": "scatter3d"
           }
          ],
          "scattercarpet": [
           {
            "marker": {
             "colorbar": {
              "outlinewidth": 0,
              "ticks": ""
             }
            },
            "type": "scattercarpet"
           }
          ],
          "scattergeo": [
           {
            "marker": {
             "colorbar": {
              "outlinewidth": 0,
              "ticks": ""
             }
            },
            "type": "scattergeo"
           }
          ],
          "scattergl": [
           {
            "marker": {
             "colorbar": {
              "outlinewidth": 0,
              "ticks": ""
             }
            },
            "type": "scattergl"
           }
          ],
          "scattermapbox": [
           {
            "marker": {
             "colorbar": {
              "outlinewidth": 0,
              "ticks": ""
             }
            },
            "type": "scattermapbox"
           }
          ],
          "scatterpolar": [
           {
            "marker": {
             "colorbar": {
              "outlinewidth": 0,
              "ticks": ""
             }
            },
            "type": "scatterpolar"
           }
          ],
          "scatterpolargl": [
           {
            "marker": {
             "colorbar": {
              "outlinewidth": 0,
              "ticks": ""
             }
            },
            "type": "scatterpolargl"
           }
          ],
          "scatterternary": [
           {
            "marker": {
             "colorbar": {
              "outlinewidth": 0,
              "ticks": ""
             }
            },
            "type": "scatterternary"
           }
          ],
          "surface": [
           {
            "colorbar": {
             "outlinewidth": 0,
             "ticks": ""
            },
            "colorscale": [
             [
              0,
              "#0d0887"
             ],
             [
              0.1111111111111111,
              "#46039f"
             ],
             [
              0.2222222222222222,
              "#7201a8"
             ],
             [
              0.3333333333333333,
              "#9c179e"
             ],
             [
              0.4444444444444444,
              "#bd3786"
             ],
             [
              0.5555555555555556,
              "#d8576b"
             ],
             [
              0.6666666666666666,
              "#ed7953"
             ],
             [
              0.7777777777777778,
              "#fb9f3a"
             ],
             [
              0.8888888888888888,
              "#fdca26"
             ],
             [
              1,
              "#f0f921"
             ]
            ],
            "type": "surface"
           }
          ],
          "table": [
           {
            "cells": {
             "fill": {
              "color": "#EBF0F8"
             },
             "line": {
              "color": "white"
             }
            },
            "header": {
             "fill": {
              "color": "#C8D4E3"
             },
             "line": {
              "color": "white"
             }
            },
            "type": "table"
           }
          ]
         },
         "layout": {
          "annotationdefaults": {
           "arrowcolor": "#2a3f5f",
           "arrowhead": 0,
           "arrowwidth": 1
          },
          "autotypenumbers": "strict",
          "coloraxis": {
           "colorbar": {
            "outlinewidth": 0,
            "ticks": ""
           }
          },
          "colorscale": {
           "diverging": [
            [
             0,
             "#8e0152"
            ],
            [
             0.1,
             "#c51b7d"
            ],
            [
             0.2,
             "#de77ae"
            ],
            [
             0.3,
             "#f1b6da"
            ],
            [
             0.4,
             "#fde0ef"
            ],
            [
             0.5,
             "#f7f7f7"
            ],
            [
             0.6,
             "#e6f5d0"
            ],
            [
             0.7,
             "#b8e186"
            ],
            [
             0.8,
             "#7fbc41"
            ],
            [
             0.9,
             "#4d9221"
            ],
            [
             1,
             "#276419"
            ]
           ],
           "sequential": [
            [
             0,
             "#0d0887"
            ],
            [
             0.1111111111111111,
             "#46039f"
            ],
            [
             0.2222222222222222,
             "#7201a8"
            ],
            [
             0.3333333333333333,
             "#9c179e"
            ],
            [
             0.4444444444444444,
             "#bd3786"
            ],
            [
             0.5555555555555556,
             "#d8576b"
            ],
            [
             0.6666666666666666,
             "#ed7953"
            ],
            [
             0.7777777777777778,
             "#fb9f3a"
            ],
            [
             0.8888888888888888,
             "#fdca26"
            ],
            [
             1,
             "#f0f921"
            ]
           ],
           "sequentialminus": [
            [
             0,
             "#0d0887"
            ],
            [
             0.1111111111111111,
             "#46039f"
            ],
            [
             0.2222222222222222,
             "#7201a8"
            ],
            [
             0.3333333333333333,
             "#9c179e"
            ],
            [
             0.4444444444444444,
             "#bd3786"
            ],
            [
             0.5555555555555556,
             "#d8576b"
            ],
            [
             0.6666666666666666,
             "#ed7953"
            ],
            [
             0.7777777777777778,
             "#fb9f3a"
            ],
            [
             0.8888888888888888,
             "#fdca26"
            ],
            [
             1,
             "#f0f921"
            ]
           ]
          },
          "colorway": [
           "#636efa",
           "#EF553B",
           "#00cc96",
           "#ab63fa",
           "#FFA15A",
           "#19d3f3",
           "#FF6692",
           "#B6E880",
           "#FF97FF",
           "#FECB52"
          ],
          "font": {
           "color": "#2a3f5f"
          },
          "geo": {
           "bgcolor": "white",
           "lakecolor": "white",
           "landcolor": "#E5ECF6",
           "showlakes": true,
           "showland": true,
           "subunitcolor": "white"
          },
          "hoverlabel": {
           "align": "left"
          },
          "hovermode": "closest",
          "mapbox": {
           "style": "light"
          },
          "paper_bgcolor": "white",
          "plot_bgcolor": "#E5ECF6",
          "polar": {
           "angularaxis": {
            "gridcolor": "white",
            "linecolor": "white",
            "ticks": ""
           },
           "bgcolor": "#E5ECF6",
           "radialaxis": {
            "gridcolor": "white",
            "linecolor": "white",
            "ticks": ""
           }
          },
          "scene": {
           "xaxis": {
            "backgroundcolor": "#E5ECF6",
            "gridcolor": "white",
            "gridwidth": 2,
            "linecolor": "white",
            "showbackground": true,
            "ticks": "",
            "zerolinecolor": "white"
           },
           "yaxis": {
            "backgroundcolor": "#E5ECF6",
            "gridcolor": "white",
            "gridwidth": 2,
            "linecolor": "white",
            "showbackground": true,
            "ticks": "",
            "zerolinecolor": "white"
           },
           "zaxis": {
            "backgroundcolor": "#E5ECF6",
            "gridcolor": "white",
            "gridwidth": 2,
            "linecolor": "white",
            "showbackground": true,
            "ticks": "",
            "zerolinecolor": "white"
           }
          },
          "shapedefaults": {
           "line": {
            "color": "#2a3f5f"
           }
          },
          "ternary": {
           "aaxis": {
            "gridcolor": "white",
            "linecolor": "white",
            "ticks": ""
           },
           "baxis": {
            "gridcolor": "white",
            "linecolor": "white",
            "ticks": ""
           },
           "bgcolor": "#E5ECF6",
           "caxis": {
            "gridcolor": "white",
            "linecolor": "white",
            "ticks": ""
           }
          },
          "title": {
           "x": 0.05
          },
          "xaxis": {
           "automargin": true,
           "gridcolor": "white",
           "linecolor": "white",
           "ticks": "",
           "title": {
            "standoff": 15
           },
           "zerolinecolor": "white",
           "zerolinewidth": 2
          },
          "yaxis": {
           "automargin": true,
           "gridcolor": "white",
           "linecolor": "white",
           "ticks": "",
           "title": {
            "standoff": 15
           },
           "zerolinecolor": "white",
           "zerolinewidth": 2
          }
         }
        },
        "title": {
         "text": "2021 (LOCKDOWN) AQI Heatmap"
        }
       }
      }
     },
     "metadata": {},
     "output_type": "display_data"
    }
   ],
   "source": [
    "# Constructing heatmaps for 1980 and 2021, displaying each state's average AQI with a scatterpoint on the colorscale\n",
    "# Using Plotly Express\n",
    "\n",
    "fig = px.density_mapbox(\n",
    "        old_average,\n",
    "        lat='Latitude',\n",
    "        lon='Longitude',\n",
    "        z='AQI',\n",
    "        opacity=0,\n",
    "        color_continuous_scale='icefire',\n",
    "        radius=40,\n",
    "        zoom=2,\n",
    "        mapbox_style='open-street-map',\n",
    "        height=600\n",
    "    )\n",
    "\n",
    "fig.add_trace(\n",
    "        go.Scattermapbox(\n",
    "            lat=old_average[\"Latitude\"],\n",
    "            lon=old_average[\"Longitude\"],\n",
    "            mode=\"markers\",\n",
    "            showlegend=False,\n",
    "            hoverinfo=\"skip\",\n",
    "            marker={\n",
    "                \"color\": old_average[\"AQI\"],\n",
    "                \"size\": old_average[\"AQI\"].fillna(0),\n",
    "                \"coloraxis\": \"coloraxis\",\n",
    "                \"sizemode\": \"area\",\n",
    "            },\n",
    "        )\n",
    "    )\n",
    "\n",
    "fig_two = px.density_mapbox(\n",
    "        new_average,\n",
    "        lat='Latitude',\n",
    "        lon='Longitude',\n",
    "        z='AQI',\n",
    "        opacity=0,\n",
    "        color_continuous_scale='icefire',\n",
    "        radius=40,\n",
    "        zoom=2,\n",
    "        mapbox_style='open-street-map',\n",
    "        height=600\n",
    "    )\n",
    "\n",
    "fig_two.add_trace(\n",
    "        go.Scattermapbox(\n",
    "            lat=new_average[\"Latitude\"],\n",
    "            lon=new_average[\"Longitude\"],\n",
    "            mode=\"markers\",\n",
    "            showlegend=False,\n",
    "            hoverinfo=\"skip\",\n",
    "            marker={\n",
    "                \"color\": new_average[\"AQI\"],\n",
    "                \"size\": new_average[\"AQI\"].fillna(0),\n",
    "                \"coloraxis\": \"coloraxis\",\n",
    "                \"sizemode\": \"area\",\n",
    "            },\n",
    "        )\n",
    "    )\n",
    "\n",
    "fig.update_layout(title_text='1980 AQI Heatmap')\n",
    "fig_two.update_layout(title_text='2021 (LOCKDOWN) AQI Heatmap')\n",
    "\n",
    "fig.show()\n",
    "fig_two.show()"
   ]
  }
 ],
 "metadata": {
  "kernelspec": {
   "display_name": "base",
   "language": "python",
   "name": "python3"
  },
  "language_info": {
   "codemirror_mode": {
    "name": "ipython",
    "version": 3
   },
   "file_extension": ".py",
   "mimetype": "text/x-python",
   "name": "python",
   "nbconvert_exporter": "python",
   "pygments_lexer": "ipython3",
   "version": "3.11.4"
  }
 },
 "nbformat": 4,
 "nbformat_minor": 5
}
